{
 "cells": [
  {
   "cell_type": "markdown",
   "id": "fb27ca36-dc28-4007-8d75-b1dc9009802e",
   "metadata": {},
   "source": [
    "Q1. What is Elastic Net Regression and how does it differ from other regression techniques?"
   ]
  },
  {
   "cell_type": "code",
   "execution_count": null,
   "id": "18cd8b50-873c-4ca5-9957-7f7a992e830d",
   "metadata": {},
   "outputs": [],
   "source": [
    "Ans:-Elastic Net Regression is the combination of both regression are\n",
    "     i.Lasso regression(L1)\n",
    "     ii.Ridge regression(L2)\n",
    "        \n",
    "        Differ from other regression techniques:-\n",
    "          i.combined L1 & L2\n",
    "            ii.variable selection\n",
    "              iii.flexible regularization"
   ]
  },
  {
   "cell_type": "markdown",
   "id": "12ed000c-a73f-4178-b2bf-9e3236d49fe7",
   "metadata": {},
   "source": [
    "Q2. How do you choose the optimal values of the regularization parameters for Elastic Net Regression?"
   ]
  },
  {
   "cell_type": "code",
   "execution_count": null,
   "id": "1bbea26e-6ed2-40c7-aabb-4eb7013f5ca4",
   "metadata": {},
   "outputs": [],
   "source": [
    "Ans:-Elastic Net Regression reqired proper approach are\n",
    "      i.Grid Seard CV\n",
    "        ii.Cross Validation\n",
    "           iii.Randomized CV"
   ]
  },
  {
   "cell_type": "markdown",
   "id": "959ff920-b681-4f8b-8fe2-adb2e93e3746",
   "metadata": {},
   "source": [
    "Q3. What are the advantages and disadvantages of Elastic Net Regression?"
   ]
  },
  {
   "cell_type": "code",
   "execution_count": null,
   "id": "a111cf8f-4dc4-4857-8b66-56046d9e6d3f",
   "metadata": {},
   "outputs": [],
   "source": [
    "Ans:-\n",
    "       Advantages of Elastic Net Regression:-\n",
    "       i.Variable Selection\n",
    "        ii.flexibility regularization\n",
    "          iii.Robust to Outlier\n",
    "            \n",
    "        Disadvantages of Elastic Net Regression:-     \n",
    "         i.Complexity in hyperparameter tuning\n",
    "            ii.Computational complexity"
   ]
  },
  {
   "cell_type": "markdown",
   "id": "47d017b6-2da4-401a-b1c8-8809a45170da",
   "metadata": {},
   "source": [
    "Q4. What are some common use cases for Elastic Net Regression?"
   ]
  },
  {
   "cell_type": "code",
   "execution_count": null,
   "id": "b0cec37e-2d14-428a-b0a8-3dd62db0d430",
   "metadata": {},
   "outputs": [],
   "source": [
    "Ans:-\n",
    "      i.Predictive Modelling\n",
    "       ii.Feature Selection\n",
    "        iii.Financial Modelling"
   ]
  },
  {
   "cell_type": "markdown",
   "id": "5f03f1bc-1f20-4f5c-a952-a56040abcbf1",
   "metadata": {},
   "source": [
    "Q5. How do you interpret the coefficients in Elastic Net Regression?"
   ]
  },
  {
   "cell_type": "code",
   "execution_count": null,
   "id": "3dc4c606-8771-4467-8ecd-c08f64e75366",
   "metadata": {},
   "outputs": [],
   "source": [
    "Ans:-The interpret coefficients in Elastic Net Regression slighty challenging compared to other \n",
    "     linear regression because combination of Lasso(L1) & Ridge(L2) regression.\n",
    "       i.Magnitude\n",
    "        ii.comparison\n",
    "         iii.Standardization"
   ]
  },
  {
   "cell_type": "markdown",
   "id": "5f6552d9-d034-4233-b469-408d14a9b4da",
   "metadata": {},
   "source": [
    "Q6. How do you handle missing values when using Elastic Net Regression?"
   ]
  },
  {
   "cell_type": "code",
   "execution_count": null,
   "id": "89e3e279-360a-4686-b392-669d4b55cd51",
   "metadata": {},
   "outputs": [],
   "source": [
    "Ans:- To handle missing values when using Elastic Net Regression\n",
    "      i.Deletion------->remove the row contain missing value.\n",
    "       ii.imputation Technique------->mean,mode,median.\n",
    "        iii.Advanced imputation technique--------->KNN(K-Nearest Neighbour)"
   ]
  },
  {
   "cell_type": "markdown",
   "id": "af3c7dd2-93ae-4ec1-88c2-7467ce745b29",
   "metadata": {},
   "source": [
    "Q7. How do you use Elastic Net Regression for feature selection?"
   ]
  },
  {
   "cell_type": "code",
   "execution_count": null,
   "id": "a40696a8-36b5-4688-a2d4-56a0253a47bb",
   "metadata": {},
   "outputs": [],
   "source": [
    "Ans:-\n",
    "     i.Data Preparation\n",
    "      ii.Fit elastic regression\n",
    "        iii.coefficient analysis\n",
    "         iv.Feature Selection\n",
    "            v.Refine the model\n",
    "              vi.Evaluate the model"
   ]
  },
  {
   "cell_type": "markdown",
   "id": "e2ebc0f8-ac7b-4257-bdc3-e0bf85cc34a8",
   "metadata": {},
   "source": [
    "Q8. How do you pickle and unpickle a trained Elastic Net Regression model in Python?"
   ]
  },
  {
   "cell_type": "code",
   "execution_count": null,
   "id": "2b789e29-3afc-4f7e-aa70-29c78042df0a",
   "metadata": {},
   "outputs": [],
   "source": [
    "Ans:-i.Pickle the model"
   ]
  },
  {
   "cell_type": "code",
   "execution_count": null,
   "id": "098243e4-ea25-46c8-8aa6-f842a827ae6b",
   "metadata": {},
   "outputs": [],
   "source": [
    "import pickle\n",
    "from sklearn.linear_model import ElasticNet\n",
    "\n",
    "model = ElasticNet(alpha='', l1_ratio='')\n",
    "model.fit(X_train, y_train)\n",
    "\n",
    "with open('elastic_net_model.pkl') as file:\n",
    "    pickle.dump(model, file)"
   ]
  },
  {
   "cell_type": "code",
   "execution_count": null,
   "id": "24e2011e-827f-439a-b694-96c691bb5b8b",
   "metadata": {},
   "outputs": [],
   "source": [
    "ii.Unpickle the model"
   ]
  },
  {
   "cell_type": "code",
   "execution_count": null,
   "id": "9c568e20-9fd9-494d-8cca-22bfe5dfba57",
   "metadata": {},
   "outputs": [],
   "source": [
    "import pickle\n",
    "\n",
    "with open('elastic_net_model.pkl') as file:\n",
    "    model = pickle.load(file)\n",
    "y_pred = model.predict(X_test)"
   ]
  },
  {
   "cell_type": "markdown",
   "id": "62a957b4-ad56-4ec9-9d84-03a2551b22e5",
   "metadata": {},
   "source": [
    "Q9. What is the purpose of pickling a model in machine learning?"
   ]
  },
  {
   "cell_type": "code",
   "execution_count": null,
   "id": "2a5156c6-cde4-41dd-b6fe-3f8739bc08dd",
   "metadata": {},
   "outputs": [],
   "source": [
    "Ans:-The purpose of pickling a model in machine learning is to save the trained model object to a file.\n",
    "     i.Efficiency\n",
    "      ii.Scalibility\n",
    "        iii.Deployment"
   ]
  }
 ],
 "metadata": {
  "kernelspec": {
   "display_name": "Python 3 (ipykernel)",
   "language": "python",
   "name": "python3"
  },
  "language_info": {
   "codemirror_mode": {
    "name": "ipython",
    "version": 3
   },
   "file_extension": ".py",
   "mimetype": "text/x-python",
   "name": "python",
   "nbconvert_exporter": "python",
   "pygments_lexer": "ipython3",
   "version": "3.10.8"
  }
 },
 "nbformat": 4,
 "nbformat_minor": 5
}
